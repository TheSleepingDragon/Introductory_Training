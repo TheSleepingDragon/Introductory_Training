{
 "cells": [
  {
   "cell_type": "markdown",
   "id": "63cd0989",
   "metadata": {},
   "source": [
    "## <font color = \"#042A5C\"> Sum of number digits in List"
   ]
  },
  {
   "cell_type": "markdown",
   "id": "5d1fad03",
   "metadata": {},
   "source": [
    "## Method 1"
   ]
  },
  {
   "cell_type": "code",
   "execution_count": 1,
   "id": "108a2fdb",
   "metadata": {},
   "outputs": [
    {
     "name": "stdout",
     "output_type": "stream",
     "text": [
      "9\n"
     ]
    }
   ],
   "source": [
    "def sumofdigits(num):\n",
    "    digit = []\n",
    "    sum = 0\n",
    "    for i in str(num):\n",
    "        digit = int(i)\n",
    "        sum += digit\n",
    "    return sum\n",
    "\n",
    "print(sumofdigits(54))\n",
    "    "
   ]
  },
  {
   "cell_type": "markdown",
   "id": "06f7be0d",
   "metadata": {},
   "source": [
    "## Method 2 (for a list of numbers) (filter, reduce, and map with Lambda function)"
   ]
  },
  {
   "cell_type": "code",
   "execution_count": 13,
   "id": "a0957a5f",
   "metadata": {},
   "outputs": [
    {
     "name": "stdout",
     "output_type": "stream",
     "text": [
      "[9, 10]\n"
     ]
    }
   ],
   "source": [
    "from functools import reduce\n",
    "def sumofdigits(thelist): #thelist is chosen to not to be confused with \"list()\" function\n",
    "    res = [reduce(lambda x, y: int(x) + int(y), list(str(i))) for i in thelist] # Be careful about list()!!\n",
    "    return res\n",
    "\n",
    "print(sumofdigits([54,109]))\n"
   ]
  },
  {
   "cell_type": "markdown",
   "id": "082c685c",
   "metadata": {},
   "source": [
    "## Method 3 (Method 2 + map instead of reduce)"
   ]
  },
  {
   "cell_type": "code",
   "execution_count": 49,
   "id": "b367ddba",
   "metadata": {},
   "outputs": [
    {
     "name": "stdout",
     "output_type": "stream",
     "text": [
      "[13, 10]\n"
     ]
    }
   ],
   "source": [
    "def sumofdigits(thelist):\n",
    "    res = list(map(lambda x: sum(int(sub) for sub in str(x)), thelist))\n",
    "    return res\n",
    "\n",
    "print(sumofdigits([58,109]))\n",
    "    "
   ]
  },
  {
   "cell_type": "code",
   "execution_count": null,
   "id": "f4d1ec8d",
   "metadata": {},
   "outputs": [],
   "source": []
  }
 ],
 "metadata": {
  "kernelspec": {
   "display_name": "Python 3",
   "language": "python",
   "name": "python3"
  },
  "language_info": {
   "codemirror_mode": {
    "name": "ipython",
    "version": 3
   },
   "file_extension": ".py",
   "mimetype": "text/x-python",
   "name": "python",
   "nbconvert_exporter": "python",
   "pygments_lexer": "ipython3",
   "version": "3.8.11"
  }
 },
 "nbformat": 4,
 "nbformat_minor": 5
}
