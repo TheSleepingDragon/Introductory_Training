{
 "cells": [
  {
   "cell_type": "markdown",
   "id": "bda1e05c",
   "metadata": {},
   "source": [
    "## <font color =\"#277959\"> Python | Ways to find length of list"
   ]
  },
  {
   "cell_type": "markdown",
   "id": "1bc1c762",
   "metadata": {},
   "source": [
    "## Method 1"
   ]
  },
  {
   "cell_type": "code",
   "execution_count": 25,
   "id": "cd0732be",
   "metadata": {},
   "outputs": [
    {
     "name": "stdout",
     "output_type": "stream",
     "text": [
      "5\n"
     ]
    }
   ],
   "source": [
    "test_list = [ -10, -4, 2, 7, 8]\n",
    "print(len(test_list))"
   ]
  },
  {
   "cell_type": "markdown",
   "id": "2cf0c7e9",
   "metadata": {},
   "source": [
    "## Method 2"
   ]
  },
  {
   "cell_type": "code",
   "execution_count": 26,
   "id": "65606221",
   "metadata": {},
   "outputs": [
    {
     "name": "stdout",
     "output_type": "stream",
     "text": [
      "5\n"
     ]
    }
   ],
   "source": [
    "list = [1, 8, 33, 34, 39]\n",
    "for i in range(len(list)):\n",
    "    count = i + 1\n",
    "    \n",
    "print(count)"
   ]
  },
  {
   "cell_type": "markdown",
   "id": "481e5f56",
   "metadata": {},
   "source": [
    "## Method 3"
   ]
  },
  {
   "cell_type": "code",
   "execution_count": 27,
   "id": "2847c274",
   "metadata": {},
   "outputs": [
    {
     "name": "stdout",
     "output_type": "stream",
     "text": [
      "5\n"
     ]
    }
   ],
   "source": [
    "list = [1, 8, 33, 34, 39]\n",
    "count = 0\n",
    "for i in list:\n",
    "    count = count + 1\n",
    "    \n",
    "print(count)"
   ]
  },
  {
   "cell_type": "markdown",
   "id": "761e0ae9",
   "metadata": {},
   "source": [
    "## Method 4"
   ]
  },
  {
   "cell_type": "code",
   "execution_count": 32,
   "id": "8ace700c",
   "metadata": {},
   "outputs": [
    {
     "name": "stdout",
     "output_type": "stream",
     "text": [
      "6\n",
      "0.0\n"
     ]
    }
   ],
   "source": [
    "import time\n",
    "from operator import length_hint\n",
    "\n",
    "start_time = time.time()\n",
    "list = [1,3,4,55,67,901]\n",
    "print(length_hint(list))\n",
    "print(time.time() - start_time)\n"
   ]
  },
  {
   "cell_type": "code",
   "execution_count": null,
   "id": "7c81d53c",
   "metadata": {},
   "outputs": [],
   "source": []
  }
 ],
 "metadata": {
  "kernelspec": {
   "display_name": "Python 3",
   "language": "python",
   "name": "python3"
  },
  "language_info": {
   "codemirror_mode": {
    "name": "ipython",
    "version": 3
   },
   "file_extension": ".py",
   "mimetype": "text/x-python",
   "name": "python",
   "nbconvert_exporter": "python",
   "pygments_lexer": "ipython3",
   "version": "3.8.11"
  }
 },
 "nbformat": 4,
 "nbformat_minor": 5
}
