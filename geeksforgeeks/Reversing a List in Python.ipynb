{
 "cells": [
  {
   "cell_type": "markdown",
   "id": "9d7efd51",
   "metadata": {},
   "source": [
    "## <font color = \"#C4583E\"> Reversing a List in Python"
   ]
  },
  {
   "cell_type": "markdown",
   "id": "49d8571e",
   "metadata": {},
   "source": [
    "## Method 1 (my own!)"
   ]
  },
  {
   "cell_type": "code",
   "execution_count": 65,
   "id": "d6d744ba",
   "metadata": {},
   "outputs": [
    {
     "name": "stdout",
     "output_type": "stream",
     "text": [
      "[35, 34, 22, 1]\n"
     ]
    }
   ],
   "source": [
    "def reverse(list):\n",
    "    newlist = list.copy()\n",
    "    length = len(list)\n",
    "    for i in range(length):\n",
    "        if i == 0:\n",
    "            newlist[i] = list[-1]\n",
    "        if i < (len(list)/2):\n",
    "            newlist[i] = list[-i-1]\n",
    "        else:\n",
    "            newlist[i] = list[length - i - 1]\n",
    "    return newlist\n",
    "\n",
    "print(reverse([1,22,34,35]))"
   ]
  },
  {
   "cell_type": "markdown",
   "id": "264a65aa",
   "metadata": {},
   "source": [
    "## Method 2\n"
   ]
  },
  {
   "cell_type": "code",
   "execution_count": 84,
   "id": "ad1ef562",
   "metadata": {},
   "outputs": [
    {
     "name": "stdout",
     "output_type": "stream",
     "text": [
      "[35, 34, 22, 1]\n"
     ]
    }
   ],
   "source": [
    "def reverse(list):\n",
    "    return [elements for elements in reversed(list)]\n",
    "\n",
    "\n",
    "print(reverse([1,22,34,35]))\n"
   ]
  },
  {
   "cell_type": "markdown",
   "id": "6a96389a",
   "metadata": {},
   "source": [
    "## Method 3\n"
   ]
  },
  {
   "cell_type": "code",
   "execution_count": 85,
   "id": "6b5c27b7",
   "metadata": {},
   "outputs": [
    {
     "name": "stdout",
     "output_type": "stream",
     "text": [
      "[35, 34, 22, 1]\n"
     ]
    }
   ],
   "source": [
    "list = [1,22,34,35]\n",
    "list.reverse()\n",
    "print(list)"
   ]
  },
  {
   "cell_type": "markdown",
   "id": "b8382d22",
   "metadata": {},
   "source": [
    "## Method 4"
   ]
  },
  {
   "cell_type": "code",
   "execution_count": 92,
   "id": "03578a8d",
   "metadata": {},
   "outputs": [
    {
     "name": "stdout",
     "output_type": "stream",
     "text": [
      "[35, 34, 22, 1]\n"
     ]
    }
   ],
   "source": [
    "def reverse(list):\n",
    "    newlist = list[::-1]\n",
    "    return newlist\n",
    "\n",
    "print(reverse([1,22,34,35]))"
   ]
  },
  {
   "cell_type": "code",
   "execution_count": null,
   "id": "81e08d2c",
   "metadata": {},
   "outputs": [],
   "source": []
  },
  {
   "cell_type": "code",
   "execution_count": null,
   "id": "4493a956",
   "metadata": {},
   "outputs": [],
   "source": []
  }
 ],
 "metadata": {
  "kernelspec": {
   "display_name": "Python 3",
   "language": "python",
   "name": "python3"
  },
  "language_info": {
   "codemirror_mode": {
    "name": "ipython",
    "version": 3
   },
   "file_extension": ".py",
   "mimetype": "text/x-python",
   "name": "python",
   "nbconvert_exporter": "python",
   "pygments_lexer": "ipython3",
   "version": "3.8.11"
  }
 },
 "nbformat": 4,
 "nbformat_minor": 5
}
