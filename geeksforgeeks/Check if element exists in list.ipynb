{
 "cells": [
  {
   "cell_type": "markdown",
   "id": "74409afd",
   "metadata": {},
   "source": [
    "## <font color = \"#9A9B30\"> Check if element exists in list in Python\n"
   ]
  },
  {
   "cell_type": "markdown",
   "id": "96cb5ea1",
   "metadata": {},
   "source": [
    "## Method 1"
   ]
  },
  {
   "cell_type": "code",
   "execution_count": 3,
   "id": "555ba175",
   "metadata": {},
   "outputs": [
    {
     "name": "stdout",
     "output_type": "stream",
     "text": [
      "does not exist\n"
     ]
    }
   ],
   "source": [
    "def exist(list,a):\n",
    "    if a in list:\n",
    "        print(\"exists\")\n",
    "    else:\n",
    "        print(\"does not exist\")\n",
    "    \n",
    "exist([4,5,6,7],9)"
   ]
  },
  {
   "cell_type": "markdown",
   "id": "2297de02",
   "metadata": {},
   "source": [
    "## Method 2"
   ]
  },
  {
   "cell_type": "code",
   "execution_count": 9,
   "id": "c2dadf9a",
   "metadata": {},
   "outputs": [
    {
     "name": "stdout",
     "output_type": "stream",
     "text": [
      "exists\n"
     ]
    }
   ],
   "source": [
    "def exist(list,a):\n",
    "    for i in list:\n",
    "        print(\"exists\") if i == a else None \n",
    "\n",
    "exist([4,5,6,7],7)"
   ]
  },
  {
   "cell_type": "markdown",
   "id": "30231bcb",
   "metadata": {},
   "source": [
    "## Method 3 (not really relevant here!)"
   ]
  },
  {
   "cell_type": "code",
   "execution_count": 22,
   "id": "637dfafe",
   "metadata": {},
   "outputs": [
    {
     "name": "stdout",
     "output_type": "stream",
     "text": [
      "Element does not exist\n"
     ]
    }
   ],
   "source": [
    "from bisect import bisect_left, bisect\n",
    "\n",
    "list = [3,4,9,1,2,-5]\n",
    "list.sort()\n",
    "if bisect_left(list, 0)!= bisect(list, 0):\n",
    "    print (\"Element Exists\")\n",
    "else:\n",
    "    print(\"Element does not exist\")"
   ]
  },
  {
   "cell_type": "markdown",
   "id": "d525cf8c",
   "metadata": {},
   "source": [
    "## Method 4"
   ]
  },
  {
   "cell_type": "code",
   "execution_count": 26,
   "id": "38ce4afb",
   "metadata": {},
   "outputs": [
    {
     "name": "stdout",
     "output_type": "stream",
     "text": [
      "exists\n"
     ]
    }
   ],
   "source": [
    "def exist(list,num):\n",
    "    print(\"exists\") if list.count(num) > 0 else print(\"deos not exist\")\n",
    "\n",
    "list = [3,4,9,1,2,-5]\n",
    "exist(list,-5)"
   ]
  },
  {
   "cell_type": "code",
   "execution_count": null,
   "id": "f28ed065",
   "metadata": {},
   "outputs": [],
   "source": []
  }
 ],
 "metadata": {
  "kernelspec": {
   "display_name": "Python 3",
   "language": "python",
   "name": "python3"
  },
  "language_info": {
   "codemirror_mode": {
    "name": "ipython",
    "version": 3
   },
   "file_extension": ".py",
   "mimetype": "text/x-python",
   "name": "python",
   "nbconvert_exporter": "python",
   "pygments_lexer": "ipython3",
   "version": "3.8.11"
  }
 },
 "nbformat": 4,
 "nbformat_minor": 5
}
