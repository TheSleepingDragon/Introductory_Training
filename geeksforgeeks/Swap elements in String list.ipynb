{
 "cells": [
  {
   "cell_type": "markdown",
   "id": "27ab663b",
   "metadata": {},
   "source": [
    "## Swap elements in String list"
   ]
  },
  {
   "cell_type": "markdown",
   "id": "2a8b7a55",
   "metadata": {},
   "source": [
    "## Method 1"
   ]
  },
  {
   "cell_type": "code",
   "execution_count": 19,
   "id": "5f736bb2",
   "metadata": {},
   "outputs": [
    {
     "name": "stdout",
     "output_type": "stream",
     "text": [
      "yellow, brown, green, blue, red, white, "
     ]
    }
   ],
   "source": [
    "def swap(list):\n",
    "    for i in list:\n",
    "        res = str(i.replace(\"v\", \"w\").replace(\"m\", \"n\").replace(\"c\", \"b\"))\n",
    "        print(res, end=\", \")\n",
    "    \n",
    "test = [\"yellov\", \"crovm\", \"greem\", \"clue\", \"red\", \"vhite\"]\n",
    "swap(test)"
   ]
  },
  {
   "cell_type": "markdown",
   "id": "9d76830a",
   "metadata": {},
   "source": [
    "## Method 2"
   ]
  },
  {
   "cell_type": "code",
   "execution_count": 15,
   "id": "b7aadb95",
   "metadata": {},
   "outputs": [
    {
     "name": "stdout",
     "output_type": "stream",
     "text": [
      "['yellow', 'brown', 'green', 'blue', 'red', 'white']\n"
     ]
    }
   ],
   "source": [
    "def swap(list):\n",
    "    res = \" \".join(list)\n",
    "    res = res.replace(\"v\", \"w\").replace(\"m\", \"n\").replace(\"c\", \"b\").split()\n",
    "    print(res)\n",
    "    \n",
    "test = [\"yellov\", \"crovm\", \"greem\", \"clue\", \"red\", \"vhite\"]\n",
    "swap(test)"
   ]
  },
  {
   "cell_type": "code",
   "execution_count": null,
   "id": "9e498a21",
   "metadata": {},
   "outputs": [],
   "source": []
  },
  {
   "cell_type": "code",
   "execution_count": null,
   "id": "ba071cb7",
   "metadata": {},
   "outputs": [],
   "source": []
  }
 ],
 "metadata": {
  "kernelspec": {
   "display_name": "Python 3",
   "language": "python",
   "name": "python3"
  },
  "language_info": {
   "codemirror_mode": {
    "name": "ipython",
    "version": 3
   },
   "file_extension": ".py",
   "mimetype": "text/x-python",
   "name": "python",
   "nbconvert_exporter": "python",
   "pygments_lexer": "ipython3",
   "version": "3.8.8"
  }
 },
 "nbformat": 4,
 "nbformat_minor": 5
}
