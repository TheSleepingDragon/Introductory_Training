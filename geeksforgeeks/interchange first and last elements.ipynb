{
 "cells": [
  {
   "cell_type": "markdown",
   "id": "4ed720e9",
   "metadata": {},
   "source": [
    "## Python program to interchange first and last elements in a list"
   ]
  },
  {
   "cell_type": "markdown",
   "id": "3200db41",
   "metadata": {},
   "source": [
    "## Method 1"
   ]
  },
  {
   "cell_type": "code",
   "execution_count": 14,
   "id": "0f343c58",
   "metadata": {},
   "outputs": [
    {
     "name": "stdout",
     "output_type": "stream",
     "text": [
      "[9, 3, 5, 7, 1]\n"
     ]
    }
   ],
   "source": [
    "a = [1,3,5,7,9]\n",
    "b = a.copy()\n",
    "b[0] = a[-1]\n",
    "b[-1] = a[0]\n",
    "print(b)"
   ]
  },
  {
   "cell_type": "markdown",
   "id": "4ea24ea8",
   "metadata": {},
   "source": [
    "## Method 2"
   ]
  },
  {
   "cell_type": "code",
   "execution_count": 17,
   "id": "a3ddf211",
   "metadata": {},
   "outputs": [
    {
     "name": "stdout",
     "output_type": "stream",
     "text": [
      "[88, 37, 56, 78, 1]\n"
     ]
    }
   ],
   "source": [
    "def swap(list):\n",
    "    listsize = len(list)\n",
    "    newlist = list.copy()\n",
    "    newlist[0] = list[listsize - 1]\n",
    "    newlist[listsize - 1] = list[0]\n",
    "    return newlist\n",
    "\n",
    "print(swap([1,37,56,78,88]))"
   ]
  },
  {
   "cell_type": "markdown",
   "id": "8b0f4fc1",
   "metadata": {},
   "source": [
    "## Method 3"
   ]
  },
  {
   "cell_type": "code",
   "execution_count": 24,
   "id": "97d7f59a",
   "metadata": {},
   "outputs": [
    {
     "name": "stdout",
     "output_type": "stream",
     "text": [
      "[9, 2, 8, 1]\n"
     ]
    }
   ],
   "source": [
    "def swap(list):\n",
    "    tuple1 = list[0], list[-1]\n",
    "    list[-1], list[0] = tuple1\n",
    "    return list\n",
    "\n",
    "print(swap([1,2,8,9]))"
   ]
  },
  {
   "cell_type": "markdown",
   "id": "6c389e7e",
   "metadata": {},
   "source": [
    "## Method 4"
   ]
  },
  {
   "cell_type": "code",
   "execution_count": 25,
   "id": "7cfb27ae",
   "metadata": {},
   "outputs": [
    {
     "name": "stdout",
     "output_type": "stream",
     "text": [
      "(38, 33, 36, 1)\n"
     ]
    }
   ],
   "source": [
    "def swap(list):\n",
    "    beg, *inter, end = list \n",
    "    list = end, *inter, beg\n",
    "    return list\n",
    "\n",
    "print(swap([1,33,36,38]))"
   ]
  },
  {
   "cell_type": "markdown",
   "id": "ad3f77b9",
   "metadata": {},
   "source": [
    "## Method 5"
   ]
  },
  {
   "cell_type": "code",
   "execution_count": 11,
   "id": "f31d9acf",
   "metadata": {},
   "outputs": [
    {
     "name": "stdout",
     "output_type": "stream",
     "text": [
      "[81, 3, 4, 51, 1]\n"
     ]
    }
   ],
   "source": [
    "def swap(list):\n",
    "    first = list.pop(0)\n",
    "    last = list.pop(-1)\n",
    "    \n",
    "    list.insert(0, last)\n",
    "    list.append(first)\n",
    "    return list\n",
    "\n",
    "print(swap([1,3,4,51,81]))"
   ]
  },
  {
   "cell_type": "code",
   "execution_count": null,
   "id": "f50db4ff",
   "metadata": {},
   "outputs": [],
   "source": []
  }
 ],
 "metadata": {
  "kernelspec": {
   "display_name": "Python 3",
   "language": "python",
   "name": "python3"
  },
  "language_info": {
   "codemirror_mode": {
    "name": "ipython",
    "version": 3
   },
   "file_extension": ".py",
   "mimetype": "text/x-python",
   "name": "python",
   "nbconvert_exporter": "python",
   "pygments_lexer": "ipython3",
   "version": "3.8.8"
  }
 },
 "nbformat": 4,
 "nbformat_minor": 5
}
