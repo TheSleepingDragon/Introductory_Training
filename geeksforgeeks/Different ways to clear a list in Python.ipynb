{
 "cells": [
  {
   "cell_type": "markdown",
   "id": "b5666139",
   "metadata": {},
   "source": [
    "## <font color = \"#4066C6\"> Different ways to clear a list in Python\n"
   ]
  },
  {
   "cell_type": "markdown",
   "id": "2b24741f",
   "metadata": {},
   "source": [
    "## Method 1"
   ]
  },
  {
   "cell_type": "code",
   "execution_count": 1,
   "id": "7d9d94ad",
   "metadata": {},
   "outputs": [
    {
     "name": "stdout",
     "output_type": "stream",
     "text": [
      "[]\n"
     ]
    }
   ],
   "source": [
    "list = [1,2,5,6,10,12]\n",
    "list.clear()\n",
    "print(list)"
   ]
  },
  {
   "cell_type": "markdown",
   "id": "c88fc405",
   "metadata": {},
   "source": [
    "## Method 2"
   ]
  },
  {
   "cell_type": "code",
   "execution_count": 2,
   "id": "f30dfe8c",
   "metadata": {},
   "outputs": [
    {
     "name": "stdout",
     "output_type": "stream",
     "text": [
      "[]\n"
     ]
    }
   ],
   "source": [
    "list = [1,2,5,6,10,12]\n",
    "list = []\n",
    "print(list)"
   ]
  },
  {
   "cell_type": "markdown",
   "id": "ac90d7da",
   "metadata": {},
   "source": [
    "## Method 3"
   ]
  },
  {
   "cell_type": "code",
   "execution_count": 4,
   "id": "a1787945",
   "metadata": {},
   "outputs": [
    {
     "name": "stdout",
     "output_type": "stream",
     "text": [
      "[]\n"
     ]
    }
   ],
   "source": [
    "list = [1,2,5,6,10,12]\n",
    "list *= 0\n",
    "print(list)"
   ]
  },
  {
   "cell_type": "markdown",
   "id": "4e791ff1",
   "metadata": {},
   "source": [
    "## Method 4"
   ]
  },
  {
   "cell_type": "code",
   "execution_count": 6,
   "id": "9225a389",
   "metadata": {},
   "outputs": [
    {
     "name": "stdout",
     "output_type": "stream",
     "text": [
      "[]\n"
     ]
    }
   ],
   "source": [
    "list = [1,2,5,6,10,12]\n",
    "del list[:]\n",
    "print(list)"
   ]
  },
  {
   "cell_type": "code",
   "execution_count": null,
   "id": "6f3db6ae",
   "metadata": {},
   "outputs": [],
   "source": []
  }
 ],
 "metadata": {
  "kernelspec": {
   "display_name": "Python 3",
   "language": "python",
   "name": "python3"
  },
  "language_info": {
   "codemirror_mode": {
    "name": "ipython",
    "version": 3
   },
   "file_extension": ".py",
   "mimetype": "text/x-python",
   "name": "python",
   "nbconvert_exporter": "python",
   "pygments_lexer": "ipython3",
   "version": "3.8.11"
  }
 },
 "nbformat": 4,
 "nbformat_minor": 5
}
