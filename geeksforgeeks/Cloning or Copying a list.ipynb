{
 "cells": [
  {
   "cell_type": "markdown",
   "id": "e7a2c124",
   "metadata": {},
   "source": [
    "## <font color = #8CBE0E> Cloning or Copying a list"
   ]
  },
  {
   "cell_type": "markdown",
   "id": "9302fed3",
   "metadata": {},
   "source": [
    "## Method 1"
   ]
  },
  {
   "cell_type": "code",
   "execution_count": 1,
   "id": "b798e928",
   "metadata": {},
   "outputs": [
    {
     "name": "stdout",
     "output_type": "stream",
     "text": [
      "[1, 5, 6]\n"
     ]
    }
   ],
   "source": [
    "def cop(list):\n",
    "    newlist = list.copy()\n",
    "    return newlist\n",
    "\n",
    "print(cop([1,5,6]))"
   ]
  },
  {
   "cell_type": "markdown",
   "id": "7f11bef3",
   "metadata": {},
   "source": [
    "## Method 2"
   ]
  },
  {
   "cell_type": "code",
   "execution_count": 2,
   "id": "9dc03fda",
   "metadata": {},
   "outputs": [
    {
     "name": "stdout",
     "output_type": "stream",
     "text": [
      "[1, 5, 6]\n"
     ]
    }
   ],
   "source": [
    "# This method is the fastest one!\n",
    "def cop(list):\n",
    "    newlist = list[::] # This can be done by either two or one semicolons! \n",
    "    return newlist\n",
    "\n",
    "print(cop([1,5,6]))"
   ]
  },
  {
   "cell_type": "markdown",
   "id": "3a56de62",
   "metadata": {},
   "source": [
    "## Method 3\n"
   ]
  },
  {
   "cell_type": "code",
   "execution_count": 3,
   "id": "33bc23e9",
   "metadata": {},
   "outputs": [
    {
     "name": "stdout",
     "output_type": "stream",
     "text": [
      "[1, 5, 6]\n"
     ]
    }
   ],
   "source": [
    "def cop(list):\n",
    "    newlist = []\n",
    "    newlist.extend(list)\n",
    "    return newlist\n",
    "\n",
    "print(cop([1,5,6]))"
   ]
  },
  {
   "cell_type": "markdown",
   "id": "25808a3f",
   "metadata": {},
   "source": [
    "## Method 4"
   ]
  },
  {
   "cell_type": "code",
   "execution_count": 4,
   "id": "198e8135",
   "metadata": {},
   "outputs": [
    {
     "name": "stdout",
     "output_type": "stream",
     "text": [
      "[1, 5, 6]\n"
     ]
    }
   ],
   "source": [
    "def cop(list1):\n",
    "    newlist = list(list1) # You will get error if the list \"function\" becomes the same as the name of the \"input\" list\n",
    "    return newlist\n",
    "    \n",
    "print(cop([1,5,6]))"
   ]
  },
  {
   "cell_type": "markdown",
   "id": "abbd99a6",
   "metadata": {},
   "source": [
    "## Method 5"
   ]
  },
  {
   "cell_type": "code",
   "execution_count": 5,
   "id": "37eeb3b6",
   "metadata": {},
   "outputs": [
    {
     "name": "stdout",
     "output_type": "stream",
     "text": [
      "[1, 5, 6]\n"
     ]
    }
   ],
   "source": [
    "# Deep copy for nested lists (shallow copy works for one dimensional lists)\n",
    "# This method is the slowest one by a fact of at least 10-100 times. Do not use it unless necessary. \n",
    "import copy\n",
    "def cop(list):\n",
    "    newlist = copy.deepcopy(list)\n",
    "    return newlist\n",
    "\n",
    "print(cop([1,5,6]))"
   ]
  },
  {
   "cell_type": "markdown",
   "id": "32c593c1",
   "metadata": {},
   "source": [
    "## Method 6"
   ]
  },
  {
   "cell_type": "code",
   "execution_count": 6,
   "id": "c5e60e26",
   "metadata": {},
   "outputs": [
    {
     "name": "stdout",
     "output_type": "stream",
     "text": [
      "[1, 5, 6]\n"
     ]
    }
   ],
   "source": [
    "def cop(list):\n",
    "    newlist = [i for i in list]\n",
    "    return newlist\n",
    "\n",
    "print(cop([1,5,6]))"
   ]
  },
  {
   "cell_type": "markdown",
   "id": "b17cc74b",
   "metadata": {},
   "source": [
    "## Method 7"
   ]
  },
  {
   "cell_type": "code",
   "execution_count": 18,
   "id": "82754a61",
   "metadata": {},
   "outputs": [
    {
     "name": "stdout",
     "output_type": "stream",
     "text": [
      "[1, 5, 6]\n"
     ]
    }
   ],
   "source": [
    "def cop(list):\n",
    "    newlist = []\n",
    "    for i in list: newlist.append(i)\n",
    "    return newlist\n",
    "\n",
    "print(cop([1,5,6]))"
   ]
  },
  {
   "cell_type": "code",
   "execution_count": null,
   "id": "fc1cf680",
   "metadata": {},
   "outputs": [],
   "source": []
  }
 ],
 "metadata": {
  "kernelspec": {
   "display_name": "Python 3",
   "language": "python",
   "name": "python3"
  },
  "language_info": {
   "codemirror_mode": {
    "name": "ipython",
    "version": 3
   },
   "file_extension": ".py",
   "mimetype": "text/x-python",
   "name": "python",
   "nbconvert_exporter": "python",
   "pygments_lexer": "ipython3",
   "version": "3.8.11"
  }
 },
 "nbformat": 4,
 "nbformat_minor": 5
}
