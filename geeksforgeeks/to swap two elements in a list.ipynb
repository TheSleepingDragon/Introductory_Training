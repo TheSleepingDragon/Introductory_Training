{
 "cells": [
  {
   "cell_type": "markdown",
   "id": "a1dd585f",
   "metadata": {},
   "source": [
    "## Python program to swap two elements in a list\n"
   ]
  },
  {
   "cell_type": "markdown",
   "id": "9af10395",
   "metadata": {},
   "source": [
    "## Method 1"
   ]
  },
  {
   "cell_type": "code",
   "execution_count": 1,
   "id": "ba343762",
   "metadata": {},
   "outputs": [
    {
     "name": "stdout",
     "output_type": "stream",
     "text": [
      "4 19\n",
      "[2, 19, 13, 16, 4, 23]\n"
     ]
    }
   ],
   "source": [
    "pose1 = int()\n",
    "pose2 = int()\n",
    "def swap(list, pose1, pose2):\n",
    "    first = list.pop(pose1)\n",
    "    second = list.pop(pose2 - 1)\n",
    "    print(first, second)\n",
    "    list.insert(pose1,second)\n",
    "    list.insert(pose2, first)\n",
    "    return list\n",
    "print(swap([2,4,13,16,19,23],1,4))"
   ]
  },
  {
   "cell_type": "markdown",
   "id": "43890508",
   "metadata": {},
   "source": [
    "## Method 2\n"
   ]
  },
  {
   "cell_type": "code",
   "execution_count": 6,
   "id": "92af0fe2",
   "metadata": {},
   "outputs": [
    {
     "name": "stdout",
     "output_type": "stream",
     "text": [
      "[1, 3, 9, 5, 10]\n"
     ]
    }
   ],
   "source": [
    "def swap(list, pose1, pose2):\n",
    "    list[pose1], list[pose2] = list[pose2], list[pose1]\n",
    "    return list\n",
    "\n",
    "print(swap([1,3,5,9,10],2,3))"
   ]
  },
  {
   "cell_type": "markdown",
   "id": "56c5a3d5",
   "metadata": {},
   "source": [
    "## Method 3\n"
   ]
  },
  {
   "cell_type": "code",
   "execution_count": 8,
   "id": "0e8ed2b2",
   "metadata": {},
   "outputs": [
    {
     "name": "stdout",
     "output_type": "stream",
     "text": [
      "[1, 3, 9, 5, 10]\n"
     ]
    }
   ],
   "source": [
    "def swap(list, pose1, pose2):\n",
    "    tuple1 = list[pose1], list[pose2]\n",
    "    list[pose2], list[pose1] = tuple1\n",
    "    return list\n",
    "\n",
    "print(swap([1,3,5,9,10],2,3))"
   ]
  },
  {
   "cell_type": "code",
   "execution_count": null,
   "id": "8729f9b9",
   "metadata": {},
   "outputs": [],
   "source": []
  }
 ],
 "metadata": {
  "kernelspec": {
   "display_name": "Python 3",
   "language": "python",
   "name": "python3"
  },
  "language_info": {
   "codemirror_mode": {
    "name": "ipython",
    "version": 3
   },
   "file_extension": ".py",
   "mimetype": "text/x-python",
   "name": "python",
   "nbconvert_exporter": "python",
   "pygments_lexer": "ipython3",
   "version": "3.8.8"
  }
 },
 "nbformat": 4,
 "nbformat_minor": 5
}
