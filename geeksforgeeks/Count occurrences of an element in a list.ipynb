{
 "cells": [
  {
   "cell_type": "markdown",
   "id": "3da9c0ed",
   "metadata": {},
   "source": [
    "## <font color = #ECE80E> Count occurrences of an element in a list"
   ]
  },
  {
   "cell_type": "markdown",
   "id": "2581b8f6",
   "metadata": {},
   "source": [
    "## Method 1"
   ]
  },
  {
   "cell_type": "code",
   "execution_count": 1,
   "id": "1e096b9d",
   "metadata": {},
   "outputs": [
    {
     "name": "stdout",
     "output_type": "stream",
     "text": [
      "4\n"
     ]
    }
   ],
   "source": [
    "x = int()\n",
    "def counter(list,x):\n",
    "    count = 0\n",
    "    for i in list:\n",
    "        if i == x:\n",
    "            count += 1\n",
    "    return count\n",
    "\n",
    "print(counter([3,4,5,5,5,7,19,11,5],5))"
   ]
  },
  {
   "cell_type": "markdown",
   "id": "3a6aeb67",
   "metadata": {},
   "source": [
    "## Method 2"
   ]
  },
  {
   "cell_type": "code",
   "execution_count": 2,
   "id": "7e9b3297",
   "metadata": {},
   "outputs": [
    {
     "name": "stdout",
     "output_type": "stream",
     "text": [
      "4\n"
     ]
    }
   ],
   "source": [
    "def counter(list,x):\n",
    "    counter = list.count(x)\n",
    "    return counter\n",
    "\n",
    "print(counter([3,4,5,5,5,7,19,11,5],5))"
   ]
  },
  {
   "cell_type": "markdown",
   "id": "bb8e0bf8",
   "metadata": {},
   "source": [
    "## Method 3"
   ]
  },
  {
   "cell_type": "code",
   "execution_count": 3,
   "id": "7cf515ce",
   "metadata": {},
   "outputs": [
    {
     "name": "stdout",
     "output_type": "stream",
     "text": [
      "4\n"
     ]
    }
   ],
   "source": [
    "from collections import Counter\n",
    "def counter_func(list,x):\n",
    "    counter_val = list.counter(x)\n",
    "    return counter_val\n",
    "\n",
    "print(counter([3,4,5,5,5,7,19,11,5],5))"
   ]
  },
  {
   "cell_type": "code",
   "execution_count": null,
   "id": "7394dc6d",
   "metadata": {},
   "outputs": [],
   "source": []
  }
 ],
 "metadata": {
  "kernelspec": {
   "display_name": "Python 3",
   "language": "python",
   "name": "python3"
  },
  "language_info": {
   "codemirror_mode": {
    "name": "ipython",
    "version": 3
   },
   "file_extension": ".py",
   "mimetype": "text/x-python",
   "name": "python",
   "nbconvert_exporter": "python",
   "pygments_lexer": "ipython3",
   "version": "3.8.11"
  }
 },
 "nbformat": 4,
 "nbformat_minor": 5
}
