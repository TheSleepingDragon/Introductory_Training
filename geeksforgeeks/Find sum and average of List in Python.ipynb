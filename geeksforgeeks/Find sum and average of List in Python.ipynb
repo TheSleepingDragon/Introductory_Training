{
 "cells": [
  {
   "cell_type": "markdown",
   "id": "1dbfa0c8",
   "metadata": {},
   "source": [
    "## <font color = #05BD4D> Find sum and average of List in Python"
   ]
  },
  {
   "cell_type": "markdown",
   "id": "eaa7d276",
   "metadata": {},
   "source": [
    "## Method 1"
   ]
  },
  {
   "cell_type": "code",
   "execution_count": 3,
   "id": "d5b7a0ee",
   "metadata": {},
   "outputs": [
    {
     "name": "stdout",
     "output_type": "stream",
     "text": [
      "(2.6666666666666665, 8)\n"
     ]
    }
   ],
   "source": [
    "def sum_av(list):\n",
    "    sum = 0\n",
    "    number_of_items = 0\n",
    "    for i in list:\n",
    "        sum += i\n",
    "        number_of_items += 1\n",
    "    mean = sum/number_of_items\n",
    "    return mean, sum\n",
    "\n",
    "print(sum_av([1,3,4]))"
   ]
  },
  {
   "cell_type": "markdown",
   "id": "891427dd",
   "metadata": {},
   "source": [
    "## Method 2"
   ]
  },
  {
   "cell_type": "code",
   "execution_count": 18,
   "id": "321f15c1",
   "metadata": {},
   "outputs": [
    {
     "name": "stdout",
     "output_type": "stream",
     "text": [
      "(2.6666666666666665, 8)\n"
     ]
    }
   ],
   "source": [
    "import numpy as np\n",
    "list = np.array([1,3,4])   \n",
    "M = np.mean(list)\n",
    "S = np.sum(list)\n",
    "print((M,S))\n"
   ]
  },
  {
   "cell_type": "markdown",
   "id": "8aae3a2a",
   "metadata": {},
   "source": [
    "## Method 3"
   ]
  },
  {
   "cell_type": "code",
   "execution_count": 22,
   "id": "b7daabf5",
   "metadata": {},
   "outputs": [
    {
     "name": "stdout",
     "output_type": "stream",
     "text": [
      "(2.6666666666666665, 8)\n"
     ]
    }
   ],
   "source": [
    "def sum_av(list):\n",
    "    S = sum(list)\n",
    "    M = S/len(list)\n",
    "    return M, S\n",
    "\n",
    "print(sum_av([1,3,4]))"
   ]
  },
  {
   "cell_type": "code",
   "execution_count": null,
   "id": "ff91c01d",
   "metadata": {},
   "outputs": [],
   "source": []
  }
 ],
 "metadata": {
  "kernelspec": {
   "display_name": "Python 3",
   "language": "python",
   "name": "python3"
  },
  "language_info": {
   "codemirror_mode": {
    "name": "ipython",
    "version": 3
   },
   "file_extension": ".py",
   "mimetype": "text/x-python",
   "name": "python",
   "nbconvert_exporter": "python",
   "pygments_lexer": "ipython3",
   "version": "3.8.11"
  }
 },
 "nbformat": 4,
 "nbformat_minor": 5
}
