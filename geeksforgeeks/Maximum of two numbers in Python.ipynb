{
 "cells": [
  {
   "cell_type": "markdown",
   "id": "b90773c5",
   "metadata": {},
   "source": [
    "## <font color = \"#06868B\"> Maximum of two numbers in Python\n"
   ]
  },
  {
   "cell_type": "markdown",
   "id": "624e52fe",
   "metadata": {},
   "source": [
    "## Method 1"
   ]
  },
  {
   "cell_type": "code",
   "execution_count": 19,
   "id": "1a567d56",
   "metadata": {},
   "outputs": [
    {
     "data": {
      "text/plain": [
       "13"
      ]
     },
     "execution_count": 19,
     "metadata": {},
     "output_type": "execute_result"
    }
   ],
   "source": [
    "def max(a,b):\n",
    "    return b if a < b else a\n",
    "\n",
    "max(11,13)"
   ]
  },
  {
   "cell_type": "markdown",
   "id": "6b516a02",
   "metadata": {},
   "source": [
    "## Method 2\n"
   ]
  },
  {
   "cell_type": "code",
   "execution_count": 20,
   "id": "7a7a68eb",
   "metadata": {},
   "outputs": [
    {
     "name": "stdout",
     "output_type": "stream",
     "text": [
      "3\n"
     ]
    }
   ],
   "source": [
    "print(max(2,3))"
   ]
  },
  {
   "cell_type": "code",
   "execution_count": null,
   "id": "d8be4a5a",
   "metadata": {},
   "outputs": [],
   "source": []
  }
 ],
 "metadata": {
  "kernelspec": {
   "display_name": "Python 3",
   "language": "python",
   "name": "python3"
  },
  "language_info": {
   "codemirror_mode": {
    "name": "ipython",
    "version": 3
   },
   "file_extension": ".py",
   "mimetype": "text/x-python",
   "name": "python",
   "nbconvert_exporter": "python",
   "pygments_lexer": "ipython3",
   "version": "3.8.11"
  }
 },
 "nbformat": 4,
 "nbformat_minor": 5
}
