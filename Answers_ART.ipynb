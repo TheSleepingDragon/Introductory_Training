{
 "cells": [
  {
   "cell_type": "markdown",
   "id": "d7632593",
   "metadata": {},
   "source": [
    "## 1. Write a code that can print the numbers that are divisible to 7 between 10 to 100.\n"
   ]
  },
  {
   "cell_type": "code",
   "execution_count": 9,
   "id": "457080aa",
   "metadata": {},
   "outputs": [
    {
     "name": "stdout",
     "output_type": "stream",
     "text": [
      "14,21,28,35,42,49,56,63,70,77,84,91,98,"
     ]
    }
   ],
   "source": [
    "a = 10\n",
    "while a < 100:\n",
    "    b = a % 7\n",
    "    if b == 0:\n",
    "        print(a, end=\",\")\n",
    "    a += 1"
   ]
  },
  {
   "cell_type": "markdown",
   "id": "bb3937ce",
   "metadata": {},
   "source": [
    "## 2. Write a code that can print the numbers that are divisible to 7 between 10 to 100 but not divisible to 5.\n"
   ]
  },
  {
   "cell_type": "code",
   "execution_count": 10,
   "id": "6269a7f4",
   "metadata": {},
   "outputs": [
    {
     "name": "stdout",
     "output_type": "stream",
     "text": [
      "14,21,28,42,49,56,63,77,84,91,98,"
     ]
    }
   ],
   "source": [
    "a = 10\n",
    "while a < 100:\n",
    "    b = a % 7\n",
    "    if b == 0:\n",
    "        c = a % 5\n",
    "        if c != 0:\n",
    "            print(a,end=\",\")\n",
    "    a += 1"
   ]
  },
  {
   "cell_type": "markdown",
   "id": "eaf1e348",
   "metadata": {},
   "source": [
    "## 3. Print the square of numbers from 1 to 20 in four columns and five rows.  "
   ]
  },
  {
   "cell_type": "code",
   "execution_count": 17,
   "id": "e7a547c3",
   "metadata": {},
   "outputs": [
    {
     "name": "stdout",
     "output_type": "stream",
     "text": [
      "                    \n",
      "    1    4    9   16\n",
      "   25   36   49   64\n",
      "   81  100  121  144\n",
      "  169  196  225  256\n",
      "  289  324  361  400\n"
     ]
    }
   ],
   "source": [
    "import pandas as pd\n",
    "import numpy as np\n",
    "\n",
    "a =[] \n",
    "b = 1\n",
    "while b < 21:\n",
    "    c = b ** 2\n",
    "    a.append(c)\n",
    "    b += 1\n",
    "d = np.array(a).reshape(5,4)\n",
    "e = pd.DataFrame(d,index=('','','','',''),columns=('','','',''))\n",
    "print(e)\n"
   ]
  },
  {
   "cell_type": "markdown",
   "id": "d69dfd3e",
   "metadata": {},
   "source": [
    "## 4. Write a code to display a non-repeatable 8-digits password."
   ]
  },
  {
   "cell_type": "code",
   "execution_count": 120,
   "id": "5ab85d8d",
   "metadata": {},
   "outputs": [
    {
     "name": "stdout",
     "output_type": "stream",
     "text": [
      "72415389\n"
     ]
    }
   ],
   "source": [
    "import random as rm\n",
    "import numpy as np \n",
    "\n",
    "a = np.array([1,2,3,4,5,6,7,8,9]) \n",
    "num = 0\n",
    "c = str()\n",
    "while num < 8:\n",
    "    b = rm.choice(a)\n",
    "    a = np.delete(a,np.argwhere(a==b))\n",
    "    c = str(c) + str(b)\n",
    "    num += 1\n",
    "print(c)"
   ]
  },
  {
   "cell_type": "markdown",
   "id": "5f53449e",
   "metadata": {},
   "source": [
    "## 5. Write a code to display the Fibonatchi numbers up to a desired index of the series."
   ]
  },
  {
   "cell_type": "code",
   "execution_count": 17,
   "id": "ce0fec28",
   "metadata": {},
   "outputs": [
    {
     "name": "stdout",
     "output_type": "stream",
     "text": [
      "12\n",
      "0,1,1,2,3,5,8,13,21,34,55,89,"
     ]
    }
   ],
   "source": [
    "number = int(input())\n",
    "a = 0\n",
    "b = 1\n",
    "if number == 1:\n",
    "    print(a,end=\",\")\n",
    "if number == 2:\n",
    "    print(a,end=\",\")\n",
    "    print(b,end=\",\")\n",
    "if number > 2:\n",
    "    print(a,end=\",\")\n",
    "    count = 1\n",
    "    print(b,end=\",\")\n",
    "    count = 2\n",
    "    if count < number:\n",
    "        for i in range(count,number,2):\n",
    "            c = int(b) + int(a)\n",
    "            print(c,end=\",\")\n",
    "            a += b\n",
    "            count += 1\n",
    "            if count in range(count,number,2):\n",
    "                print(b+c,end=\",\")\n",
    "                b += c\n",
    "                count += 1\n",
    "else:\n",
    "    print(\"Error\")"
   ]
  },
  {
   "cell_type": "markdown",
   "id": "f60f4003",
   "metadata": {},
   "source": [
    "## 6. Write a code that can show the numbers of seconds, minutes, and hours from your birthday till current time."
   ]
  },
  {
   "cell_type": "code",
   "execution_count": 18,
   "id": "43add11f",
   "metadata": {},
   "outputs": [
    {
     "name": "stdout",
     "output_type": "stream",
     "text": [
      "enter your date of birth10\n",
      "enter your month of birth4\n",
      "enter your year of birth2008\n",
      "enter current date5\n",
      "enter current month8\n",
      "enter current year2021\n",
      "414288000 seconds you have lived \n",
      " or\n",
      "115080 hours you have lived \n",
      " or\n",
      "6904800 minutes you have lived\n"
     ]
    }
   ],
   "source": [
    "date = int(input(\"enter your date of birth\"))\n",
    "month = int(input(\"enter your month of birth\"))\n",
    "year = int(input(\"enter your year of birth\"))\n",
    "crdate = int(input(\"enter current date\"))\n",
    "crmonth = int(input(\"enter current month\"))\n",
    "cryear = int(input(\"enter current year\"))\n",
    "remain_date = crdate - date\n",
    "remain_month = crmonth - month\n",
    "remain_year = cryear - year\n",
    "Total_lived = remain_date * 24 * 3600 + remain_month * 30 * 24 * 3600 + remain_year * 12 * 30 * 24 * 3600\n",
    "print(Total_lived, \"seconds you have lived \\n or\")\n",
    "Total_lived_hour = Total_lived//3600\n",
    "Total_lived_min = Total_lived//60\n",
    "print(Total_lived_hour, \"hours you have lived \\n or\")\n",
    "print(Total_lived_min, \"minutes you have lived\")\n"
   ]
  },
  {
   "cell_type": "code",
   "execution_count": null,
   "id": "662fe1e1",
   "metadata": {},
   "outputs": [],
   "source": []
  },
  {
   "cell_type": "code",
   "execution_count": null,
   "id": "0b6eb04c",
   "metadata": {},
   "outputs": [],
   "source": []
  }
 ],
 "metadata": {
  "kernelspec": {
   "display_name": "Python 3",
   "language": "python",
   "name": "python3"
  },
  "language_info": {
   "codemirror_mode": {
    "name": "ipython",
    "version": 3
   },
   "file_extension": ".py",
   "mimetype": "text/x-python",
   "name": "python",
   "nbconvert_exporter": "python",
   "pygments_lexer": "ipython3",
   "version": "3.8.8"
  }
 },
 "nbformat": 4,
 "nbformat_minor": 5
}
