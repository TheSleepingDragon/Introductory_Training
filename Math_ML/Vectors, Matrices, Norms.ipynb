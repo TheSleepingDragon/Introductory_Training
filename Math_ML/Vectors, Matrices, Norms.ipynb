{
 "cells": [
  {
   "cell_type": "code",
   "execution_count": 35,
   "id": "d64a2fad",
   "metadata": {},
   "outputs": [],
   "source": [
    "import numpy as np\n",
    "from numpy import linalg\n",
    "import matplotlib.pyplot as plt\n",
    "from mpl_toolkits.mplot3d import Axes3D\n",
    "import matplotlib.tri as mtri\n",
    "import sys\n",
    "%matplotlib inline "
   ]
  },
  {
   "cell_type": "markdown",
   "id": "485c9fa8",
   "metadata": {},
   "source": [
    "## Working with arrays, matrices, and norms"
   ]
  },
  {
   "cell_type": "markdown",
   "id": "655b9bd0",
   "metadata": {},
   "source": [
    "### Matrices and arrays"
   ]
  },
  {
   "cell_type": "code",
   "execution_count": 2,
   "id": "b68ec49d",
   "metadata": {},
   "outputs": [
    {
     "name": "stdout",
     "output_type": "stream",
     "text": [
      "Python 3.8.11 (default, Aug  6 2021, 09:57:55) [MSC v.1916 64 bit (AMD64)]\n",
      "Numpy 1.19.5\n"
     ]
    }
   ],
   "source": [
    "print(\"Python {}\".format(sys.version))\n",
    "print(\"Numpy {}\".format(np.__version__))"
   ]
  },
  {
   "cell_type": "code",
   "execution_count": 3,
   "id": "bf5e50eb",
   "metadata": {},
   "outputs": [
    {
     "data": {
      "text/plain": [
       "5"
      ]
     },
     "execution_count": 3,
     "metadata": {},
     "output_type": "execute_result"
    }
   ],
   "source": [
    "#defining scale\n",
    "x = 5\n",
    "x"
   ]
  },
  {
   "cell_type": "code",
   "execution_count": 4,
   "id": "6aaac719",
   "metadata": {},
   "outputs": [
    {
     "data": {
      "text/plain": [
       "array([1, 2, 3])"
      ]
     },
     "execution_count": 4,
     "metadata": {},
     "output_type": "execute_result"
    }
   ],
   "source": [
    "#defining a NumPy array\n",
    "y = np.array((1,2,3))\n",
    "y"
   ]
  },
  {
   "cell_type": "code",
   "execution_count": 5,
   "id": "a38a9a95",
   "metadata": {},
   "outputs": [
    {
     "name": "stdout",
     "output_type": "stream",
     "text": [
      "Vector Dimensions (3,)\n",
      "Vector Size 3\n"
     ]
    }
   ],
   "source": [
    "print(\"Vector Dimensions {}\".format(y.shape))\n",
    "print(\"Vector Size {}\".format(y.size))"
   ]
  },
  {
   "cell_type": "code",
   "execution_count": 6,
   "id": "e7b495eb",
   "metadata": {},
   "outputs": [
    {
     "data": {
      "text/plain": [
       "matrix([[ 1,  2,  3,  4],\n",
       "        [10, 11, 12, 13]])"
      ]
     },
     "execution_count": 6,
     "metadata": {},
     "output_type": "execute_result"
    }
   ],
   "source": [
    "z = np.matrix([[1,2,3,4],[10,11,12,13]])\n",
    "z"
   ]
  },
  {
   "cell_type": "code",
   "execution_count": 7,
   "id": "1479286f",
   "metadata": {},
   "outputs": [
    {
     "name": "stdout",
     "output_type": "stream",
     "text": [
      "Matrix Dimensions (2, 4)\n",
      "Matrix Size 8\n"
     ]
    }
   ],
   "source": [
    "print(\"Matrix Dimensions {}\".format(z.shape))\n",
    "print(\"Matrix Size {}\".format(z.size))"
   ]
  },
  {
   "cell_type": "code",
   "execution_count": 8,
   "id": "a767b357",
   "metadata": {},
   "outputs": [
    {
     "name": "stdout",
     "output_type": "stream",
     "text": [
      "[[1. 1. 1. 1. 1.]]\n",
      "[[[[0.]\n",
      "   [0.]\n",
      "   [0.]]\n",
      "\n",
      "  [[0.]\n",
      "   [0.]\n",
      "   [0.]]\n",
      "\n",
      "  [[0.]\n",
      "   [0.]\n",
      "   [0.]]\n",
      "\n",
      "  [[0.]\n",
      "   [0.]\n",
      "   [0.]]]\n",
      "\n",
      "\n",
      " [[[0.]\n",
      "   [0.]\n",
      "   [0.]]\n",
      "\n",
      "  [[0.]\n",
      "   [0.]\n",
      "   [0.]]\n",
      "\n",
      "  [[0.]\n",
      "   [0.]\n",
      "   [0.]]\n",
      "\n",
      "  [[0.]\n",
      "   [0.]\n",
      "   [0.]]]]\n"
     ]
    }
   ],
   "source": [
    "a = np.ones((1,5))\n",
    "b = np.zeros((2,4,3,1))\n",
    "print(a, b, sep='\\n')"
   ]
  },
  {
   "cell_type": "code",
   "execution_count": 9,
   "id": "0a4d1292",
   "metadata": {},
   "outputs": [
    {
     "data": {
      "text/plain": [
       "array([[0, 1],\n",
       "       [0, 0],\n",
       "       [0, 0]])"
      ]
     },
     "execution_count": 9,
     "metadata": {},
     "output_type": "execute_result"
    }
   ],
   "source": [
    "c = np.zeros((3,2), dtype=np.int)\n",
    "c[0,1] = 1\n",
    "c"
   ]
  },
  {
   "cell_type": "code",
   "execution_count": 10,
   "id": "7ac73f77",
   "metadata": {},
   "outputs": [
    {
     "data": {
      "text/plain": [
       "array([[0, 1],\n",
       "       [2, 2],\n",
       "       [0, 0]])"
      ]
     },
     "execution_count": 10,
     "metadata": {},
     "output_type": "execute_result"
    }
   ],
   "source": [
    "c[1,:] = 2 \n",
    "c"
   ]
  },
  {
   "cell_type": "code",
   "execution_count": 11,
   "id": "3b058796",
   "metadata": {},
   "outputs": [
    {
     "data": {
      "text/plain": [
       "array([[[0., 0., 0., 0.],\n",
       "        [0., 0., 2., 2.],\n",
       "        [0., 0., 0., 0.]],\n",
       "\n",
       "       [[0., 0., 0., 0.],\n",
       "        [0., 0., 2., 2.],\n",
       "        [0., 0., 0., 0.]]])"
      ]
     },
     "execution_count": 11,
     "metadata": {},
     "output_type": "execute_result"
    }
   ],
   "source": [
    "d = np.zeros((2,3,4)) #Note how numpy understands the first, second, and third elements! \n",
    "                        #First is like two seperate arrays.\n",
    "d[:,1,2:4] = 2\n",
    "d"
   ]
  },
  {
   "cell_type": "code",
   "execution_count": 12,
   "id": "6687141d",
   "metadata": {},
   "outputs": [
    {
     "data": {
      "text/plain": [
       "array([[4, 6],\n",
       "       [5, 6]])"
      ]
     },
     "execution_count": 12,
     "metadata": {},
     "output_type": "execute_result"
    }
   ],
   "source": [
    "e = np.array(([1,2],[5,6]))\n",
    "f = np.array(([3,4],[0,0]))\n",
    "g = e + f\n",
    "g"
   ]
  },
  {
   "cell_type": "code",
   "execution_count": 13,
   "id": "b6b7586f",
   "metadata": {},
   "outputs": [
    {
     "data": {
      "text/plain": [
       "array([[3, 8],\n",
       "       [0, 0]])"
      ]
     },
     "execution_count": 13,
     "metadata": {},
     "output_type": "execute_result"
    }
   ],
   "source": [
    "h = e*f\n",
    "h"
   ]
  },
  {
   "cell_type": "code",
   "execution_count": 14,
   "id": "7bcd4dbd",
   "metadata": {},
   "outputs": [
    {
     "data": {
      "text/plain": [
       "array([[ 3,  4],\n",
       "       [15, 20]])"
      ]
     },
     "execution_count": 14,
     "metadata": {},
     "output_type": "execute_result"
    }
   ],
   "source": [
    "i = np.matmul(e,f) #Note the difference\n",
    "i"
   ]
  },
  {
   "cell_type": "code",
   "execution_count": 15,
   "id": "4de6f89a",
   "metadata": {},
   "outputs": [
    {
     "data": {
      "text/plain": [
       "array([[ 3,  4],\n",
       "       [15, 20]])"
      ]
     },
     "execution_count": 15,
     "metadata": {},
     "output_type": "execute_result"
    }
   ],
   "source": [
    "j = np.dot(e,f)\n",
    "j"
   ]
  },
  {
   "cell_type": "code",
   "execution_count": 16,
   "id": "83337deb",
   "metadata": {},
   "outputs": [
    {
     "data": {
      "text/plain": [
       "array([[ 3,  4],\n",
       "       [15, 20]])"
      ]
     },
     "execution_count": 16,
     "metadata": {},
     "output_type": "execute_result"
    }
   ],
   "source": [
    "k = e@f\n",
    "k"
   ]
  },
  {
   "cell_type": "code",
   "execution_count": 17,
   "id": "ae2af6f4",
   "metadata": {},
   "outputs": [
    {
     "data": {
      "text/plain": [
       "array([[ 1,  2],\n",
       "       [ 3,  4],\n",
       "       [ 5,  6],\n",
       "       [ 7,  8],\n",
       "       [ 9, 10],\n",
       "       [11, 12],\n",
       "       [13, 14],\n",
       "       [15, 16]])"
      ]
     },
     "execution_count": 17,
     "metadata": {},
     "output_type": "execute_result"
    }
   ],
   "source": [
    "# Matrix transpose\n",
    "A = np.array(range(1,17))\n",
    "A = A.reshape(8,2)\n",
    "A"
   ]
  },
  {
   "cell_type": "code",
   "execution_count": 18,
   "id": "55c4c590",
   "metadata": {},
   "outputs": [
    {
     "data": {
      "text/plain": [
       "array([[ 1,  3,  5,  7,  9, 11, 13, 15],\n",
       "       [ 2,  4,  6,  8, 10, 12, 14, 16]])"
      ]
     },
     "execution_count": 18,
     "metadata": {},
     "output_type": "execute_result"
    }
   ],
   "source": [
    "B = A.T #T = transpose\n",
    "B"
   ]
  },
  {
   "cell_type": "code",
   "execution_count": 19,
   "id": "efe1f87d",
   "metadata": {},
   "outputs": [
    {
     "name": "stdout",
     "output_type": "stream",
     "text": [
      "(8, 2) (2, 8)\n"
     ]
    }
   ],
   "source": [
    "print(A.shape, B.shape)"
   ]
  },
  {
   "cell_type": "code",
   "execution_count": 20,
   "id": "4e3adb1c",
   "metadata": {},
   "outputs": [
    {
     "data": {
      "text/plain": [
       "array([[[[  1],\n",
       "         [  2]],\n",
       "\n",
       "        [[  3],\n",
       "         [  4]],\n",
       "\n",
       "        [[  5],\n",
       "         [  6]],\n",
       "\n",
       "        [[  7],\n",
       "         [  8]],\n",
       "\n",
       "        [[  9],\n",
       "         [ 10]],\n",
       "\n",
       "        [[ 11],\n",
       "         [ 12]],\n",
       "\n",
       "        [[ 13],\n",
       "         [ 14]],\n",
       "\n",
       "        [[ 15],\n",
       "         [ 16]],\n",
       "\n",
       "        [[ 17],\n",
       "         [ 18]],\n",
       "\n",
       "        [[ 19],\n",
       "         [ 20]],\n",
       "\n",
       "        [[ 21],\n",
       "         [ 22]],\n",
       "\n",
       "        [[ 23],\n",
       "         [ 24]],\n",
       "\n",
       "        [[ 25],\n",
       "         [ 26]],\n",
       "\n",
       "        [[ 27],\n",
       "         [ 28]],\n",
       "\n",
       "        [[ 29],\n",
       "         [ 30]],\n",
       "\n",
       "        [[ 31],\n",
       "         [ 32]],\n",
       "\n",
       "        [[ 33],\n",
       "         [ 34]],\n",
       "\n",
       "        [[ 35],\n",
       "         [ 36]],\n",
       "\n",
       "        [[ 37],\n",
       "         [ 38]],\n",
       "\n",
       "        [[ 39],\n",
       "         [ 40]],\n",
       "\n",
       "        [[ 41],\n",
       "         [ 42]],\n",
       "\n",
       "        [[ 43],\n",
       "         [ 44]],\n",
       "\n",
       "        [[ 45],\n",
       "         [ 46]],\n",
       "\n",
       "        [[ 47],\n",
       "         [ 48]],\n",
       "\n",
       "        [[ 49],\n",
       "         [ 50]],\n",
       "\n",
       "        [[ 51],\n",
       "         [ 52]],\n",
       "\n",
       "        [[ 53],\n",
       "         [ 54]],\n",
       "\n",
       "        [[ 55],\n",
       "         [ 56]],\n",
       "\n",
       "        [[ 57],\n",
       "         [ 58]],\n",
       "\n",
       "        [[ 59],\n",
       "         [ 60]],\n",
       "\n",
       "        [[ 61],\n",
       "         [ 62]],\n",
       "\n",
       "        [[ 63],\n",
       "         [ 64]]],\n",
       "\n",
       "\n",
       "       [[[ 65],\n",
       "         [ 66]],\n",
       "\n",
       "        [[ 67],\n",
       "         [ 68]],\n",
       "\n",
       "        [[ 69],\n",
       "         [ 70]],\n",
       "\n",
       "        [[ 71],\n",
       "         [ 72]],\n",
       "\n",
       "        [[ 73],\n",
       "         [ 74]],\n",
       "\n",
       "        [[ 75],\n",
       "         [ 76]],\n",
       "\n",
       "        [[ 77],\n",
       "         [ 78]],\n",
       "\n",
       "        [[ 79],\n",
       "         [ 80]],\n",
       "\n",
       "        [[ 81],\n",
       "         [ 82]],\n",
       "\n",
       "        [[ 83],\n",
       "         [ 84]],\n",
       "\n",
       "        [[ 85],\n",
       "         [ 86]],\n",
       "\n",
       "        [[ 87],\n",
       "         [ 88]],\n",
       "\n",
       "        [[ 89],\n",
       "         [ 90]],\n",
       "\n",
       "        [[ 91],\n",
       "         [ 92]],\n",
       "\n",
       "        [[ 93],\n",
       "         [ 94]],\n",
       "\n",
       "        [[ 95],\n",
       "         [ 96]],\n",
       "\n",
       "        [[ 97],\n",
       "         [ 98]],\n",
       "\n",
       "        [[ 99],\n",
       "         [100]],\n",
       "\n",
       "        [[101],\n",
       "         [102]],\n",
       "\n",
       "        [[103],\n",
       "         [104]],\n",
       "\n",
       "        [[105],\n",
       "         [106]],\n",
       "\n",
       "        [[107],\n",
       "         [108]],\n",
       "\n",
       "        [[109],\n",
       "         [110]],\n",
       "\n",
       "        [[111],\n",
       "         [112]],\n",
       "\n",
       "        [[113],\n",
       "         [114]],\n",
       "\n",
       "        [[115],\n",
       "         [116]],\n",
       "\n",
       "        [[117],\n",
       "         [118]],\n",
       "\n",
       "        [[119],\n",
       "         [120]],\n",
       "\n",
       "        [[121],\n",
       "         [122]],\n",
       "\n",
       "        [[123],\n",
       "         [124]],\n",
       "\n",
       "        [[125],\n",
       "         [126]],\n",
       "\n",
       "        [[127],\n",
       "         [128]]],\n",
       "\n",
       "\n",
       "       [[[129],\n",
       "         [130]],\n",
       "\n",
       "        [[131],\n",
       "         [132]],\n",
       "\n",
       "        [[133],\n",
       "         [134]],\n",
       "\n",
       "        [[135],\n",
       "         [136]],\n",
       "\n",
       "        [[137],\n",
       "         [138]],\n",
       "\n",
       "        [[139],\n",
       "         [140]],\n",
       "\n",
       "        [[141],\n",
       "         [142]],\n",
       "\n",
       "        [[143],\n",
       "         [144]],\n",
       "\n",
       "        [[145],\n",
       "         [146]],\n",
       "\n",
       "        [[147],\n",
       "         [148]],\n",
       "\n",
       "        [[149],\n",
       "         [150]],\n",
       "\n",
       "        [[151],\n",
       "         [152]],\n",
       "\n",
       "        [[153],\n",
       "         [154]],\n",
       "\n",
       "        [[155],\n",
       "         [156]],\n",
       "\n",
       "        [[157],\n",
       "         [158]],\n",
       "\n",
       "        [[159],\n",
       "         [160]],\n",
       "\n",
       "        [[161],\n",
       "         [162]],\n",
       "\n",
       "        [[163],\n",
       "         [164]],\n",
       "\n",
       "        [[165],\n",
       "         [166]],\n",
       "\n",
       "        [[167],\n",
       "         [168]],\n",
       "\n",
       "        [[169],\n",
       "         [170]],\n",
       "\n",
       "        [[171],\n",
       "         [172]],\n",
       "\n",
       "        [[173],\n",
       "         [174]],\n",
       "\n",
       "        [[175],\n",
       "         [176]],\n",
       "\n",
       "        [[177],\n",
       "         [178]],\n",
       "\n",
       "        [[179],\n",
       "         [180]],\n",
       "\n",
       "        [[181],\n",
       "         [182]],\n",
       "\n",
       "        [[183],\n",
       "         [184]],\n",
       "\n",
       "        [[185],\n",
       "         [186]],\n",
       "\n",
       "        [[187],\n",
       "         [188]],\n",
       "\n",
       "        [[189],\n",
       "         [190]],\n",
       "\n",
       "        [[191],\n",
       "         [192]]],\n",
       "\n",
       "\n",
       "       [[[193],\n",
       "         [194]],\n",
       "\n",
       "        [[195],\n",
       "         [196]],\n",
       "\n",
       "        [[197],\n",
       "         [198]],\n",
       "\n",
       "        [[199],\n",
       "         [200]],\n",
       "\n",
       "        [[201],\n",
       "         [202]],\n",
       "\n",
       "        [[203],\n",
       "         [204]],\n",
       "\n",
       "        [[205],\n",
       "         [206]],\n",
       "\n",
       "        [[207],\n",
       "         [208]],\n",
       "\n",
       "        [[209],\n",
       "         [210]],\n",
       "\n",
       "        [[211],\n",
       "         [212]],\n",
       "\n",
       "        [[213],\n",
       "         [214]],\n",
       "\n",
       "        [[215],\n",
       "         [216]],\n",
       "\n",
       "        [[217],\n",
       "         [218]],\n",
       "\n",
       "        [[219],\n",
       "         [220]],\n",
       "\n",
       "        [[221],\n",
       "         [222]],\n",
       "\n",
       "        [[223],\n",
       "         [224]],\n",
       "\n",
       "        [[225],\n",
       "         [226]],\n",
       "\n",
       "        [[227],\n",
       "         [228]],\n",
       "\n",
       "        [[229],\n",
       "         [230]],\n",
       "\n",
       "        [[231],\n",
       "         [232]],\n",
       "\n",
       "        [[233],\n",
       "         [234]],\n",
       "\n",
       "        [[235],\n",
       "         [236]],\n",
       "\n",
       "        [[237],\n",
       "         [238]],\n",
       "\n",
       "        [[239],\n",
       "         [240]],\n",
       "\n",
       "        [[241],\n",
       "         [242]],\n",
       "\n",
       "        [[243],\n",
       "         [244]],\n",
       "\n",
       "        [[245],\n",
       "         [246]],\n",
       "\n",
       "        [[247],\n",
       "         [248]],\n",
       "\n",
       "        [[249],\n",
       "         [250]],\n",
       "\n",
       "        [[251],\n",
       "         [252]],\n",
       "\n",
       "        [[253],\n",
       "         [254]],\n",
       "\n",
       "        [[255],\n",
       "         [256]]],\n",
       "\n",
       "\n",
       "       [[[257],\n",
       "         [258]],\n",
       "\n",
       "        [[259],\n",
       "         [260]],\n",
       "\n",
       "        [[261],\n",
       "         [262]],\n",
       "\n",
       "        [[263],\n",
       "         [264]],\n",
       "\n",
       "        [[265],\n",
       "         [266]],\n",
       "\n",
       "        [[267],\n",
       "         [268]],\n",
       "\n",
       "        [[269],\n",
       "         [270]],\n",
       "\n",
       "        [[271],\n",
       "         [272]],\n",
       "\n",
       "        [[273],\n",
       "         [274]],\n",
       "\n",
       "        [[275],\n",
       "         [276]],\n",
       "\n",
       "        [[277],\n",
       "         [278]],\n",
       "\n",
       "        [[279],\n",
       "         [280]],\n",
       "\n",
       "        [[281],\n",
       "         [282]],\n",
       "\n",
       "        [[283],\n",
       "         [284]],\n",
       "\n",
       "        [[285],\n",
       "         [286]],\n",
       "\n",
       "        [[287],\n",
       "         [288]],\n",
       "\n",
       "        [[289],\n",
       "         [290]],\n",
       "\n",
       "        [[291],\n",
       "         [292]],\n",
       "\n",
       "        [[293],\n",
       "         [294]],\n",
       "\n",
       "        [[295],\n",
       "         [296]],\n",
       "\n",
       "        [[297],\n",
       "         [298]],\n",
       "\n",
       "        [[299],\n",
       "         [300]],\n",
       "\n",
       "        [[301],\n",
       "         [302]],\n",
       "\n",
       "        [[303],\n",
       "         [304]],\n",
       "\n",
       "        [[305],\n",
       "         [306]],\n",
       "\n",
       "        [[307],\n",
       "         [308]],\n",
       "\n",
       "        [[309],\n",
       "         [310]],\n",
       "\n",
       "        [[311],\n",
       "         [312]],\n",
       "\n",
       "        [[313],\n",
       "         [314]],\n",
       "\n",
       "        [[315],\n",
       "         [316]],\n",
       "\n",
       "        [[317],\n",
       "         [318]],\n",
       "\n",
       "        [[319],\n",
       "         [320]]],\n",
       "\n",
       "\n",
       "       [[[321],\n",
       "         [322]],\n",
       "\n",
       "        [[323],\n",
       "         [324]],\n",
       "\n",
       "        [[325],\n",
       "         [326]],\n",
       "\n",
       "        [[327],\n",
       "         [328]],\n",
       "\n",
       "        [[329],\n",
       "         [330]],\n",
       "\n",
       "        [[331],\n",
       "         [332]],\n",
       "\n",
       "        [[333],\n",
       "         [334]],\n",
       "\n",
       "        [[335],\n",
       "         [336]],\n",
       "\n",
       "        [[337],\n",
       "         [338]],\n",
       "\n",
       "        [[339],\n",
       "         [340]],\n",
       "\n",
       "        [[341],\n",
       "         [342]],\n",
       "\n",
       "        [[343],\n",
       "         [344]],\n",
       "\n",
       "        [[345],\n",
       "         [346]],\n",
       "\n",
       "        [[347],\n",
       "         [348]],\n",
       "\n",
       "        [[349],\n",
       "         [350]],\n",
       "\n",
       "        [[351],\n",
       "         [352]],\n",
       "\n",
       "        [[353],\n",
       "         [354]],\n",
       "\n",
       "        [[355],\n",
       "         [356]],\n",
       "\n",
       "        [[357],\n",
       "         [358]],\n",
       "\n",
       "        [[359],\n",
       "         [360]],\n",
       "\n",
       "        [[361],\n",
       "         [362]],\n",
       "\n",
       "        [[363],\n",
       "         [364]],\n",
       "\n",
       "        [[365],\n",
       "         [366]],\n",
       "\n",
       "        [[367],\n",
       "         [368]],\n",
       "\n",
       "        [[369],\n",
       "         [370]],\n",
       "\n",
       "        [[371],\n",
       "         [372]],\n",
       "\n",
       "        [[373],\n",
       "         [374]],\n",
       "\n",
       "        [[375],\n",
       "         [376]],\n",
       "\n",
       "        [[377],\n",
       "         [378]],\n",
       "\n",
       "        [[379],\n",
       "         [380]],\n",
       "\n",
       "        [[381],\n",
       "         [382]],\n",
       "\n",
       "        [[383],\n",
       "         [384]]],\n",
       "\n",
       "\n",
       "       [[[385],\n",
       "         [386]],\n",
       "\n",
       "        [[387],\n",
       "         [388]],\n",
       "\n",
       "        [[389],\n",
       "         [390]],\n",
       "\n",
       "        [[391],\n",
       "         [392]],\n",
       "\n",
       "        [[393],\n",
       "         [394]],\n",
       "\n",
       "        [[395],\n",
       "         [396]],\n",
       "\n",
       "        [[397],\n",
       "         [398]],\n",
       "\n",
       "        [[399],\n",
       "         [400]],\n",
       "\n",
       "        [[401],\n",
       "         [402]],\n",
       "\n",
       "        [[403],\n",
       "         [404]],\n",
       "\n",
       "        [[405],\n",
       "         [406]],\n",
       "\n",
       "        [[407],\n",
       "         [408]],\n",
       "\n",
       "        [[409],\n",
       "         [410]],\n",
       "\n",
       "        [[411],\n",
       "         [412]],\n",
       "\n",
       "        [[413],\n",
       "         [414]],\n",
       "\n",
       "        [[415],\n",
       "         [416]],\n",
       "\n",
       "        [[417],\n",
       "         [418]],\n",
       "\n",
       "        [[419],\n",
       "         [420]],\n",
       "\n",
       "        [[421],\n",
       "         [422]],\n",
       "\n",
       "        [[423],\n",
       "         [424]],\n",
       "\n",
       "        [[425],\n",
       "         [426]],\n",
       "\n",
       "        [[427],\n",
       "         [428]],\n",
       "\n",
       "        [[429],\n",
       "         [430]],\n",
       "\n",
       "        [[431],\n",
       "         [432]],\n",
       "\n",
       "        [[433],\n",
       "         [434]],\n",
       "\n",
       "        [[435],\n",
       "         [436]],\n",
       "\n",
       "        [[437],\n",
       "         [438]],\n",
       "\n",
       "        [[439],\n",
       "         [440]],\n",
       "\n",
       "        [[441],\n",
       "         [442]],\n",
       "\n",
       "        [[443],\n",
       "         [444]],\n",
       "\n",
       "        [[445],\n",
       "         [446]],\n",
       "\n",
       "        [[447],\n",
       "         [448]]],\n",
       "\n",
       "\n",
       "       [[[449],\n",
       "         [450]],\n",
       "\n",
       "        [[451],\n",
       "         [452]],\n",
       "\n",
       "        [[453],\n",
       "         [454]],\n",
       "\n",
       "        [[455],\n",
       "         [456]],\n",
       "\n",
       "        [[457],\n",
       "         [458]],\n",
       "\n",
       "        [[459],\n",
       "         [460]],\n",
       "\n",
       "        [[461],\n",
       "         [462]],\n",
       "\n",
       "        [[463],\n",
       "         [464]],\n",
       "\n",
       "        [[465],\n",
       "         [466]],\n",
       "\n",
       "        [[467],\n",
       "         [468]],\n",
       "\n",
       "        [[469],\n",
       "         [470]],\n",
       "\n",
       "        [[471],\n",
       "         [472]],\n",
       "\n",
       "        [[473],\n",
       "         [474]],\n",
       "\n",
       "        [[475],\n",
       "         [476]],\n",
       "\n",
       "        [[477],\n",
       "         [478]],\n",
       "\n",
       "        [[479],\n",
       "         [480]],\n",
       "\n",
       "        [[481],\n",
       "         [482]],\n",
       "\n",
       "        [[483],\n",
       "         [484]],\n",
       "\n",
       "        [[485],\n",
       "         [486]],\n",
       "\n",
       "        [[487],\n",
       "         [488]],\n",
       "\n",
       "        [[489],\n",
       "         [490]],\n",
       "\n",
       "        [[491],\n",
       "         [492]],\n",
       "\n",
       "        [[493],\n",
       "         [494]],\n",
       "\n",
       "        [[495],\n",
       "         [496]],\n",
       "\n",
       "        [[497],\n",
       "         [498]],\n",
       "\n",
       "        [[499],\n",
       "         [500]],\n",
       "\n",
       "        [[501],\n",
       "         [502]],\n",
       "\n",
       "        [[503],\n",
       "         [504]],\n",
       "\n",
       "        [[505],\n",
       "         [506]],\n",
       "\n",
       "        [[507],\n",
       "         [508]],\n",
       "\n",
       "        [[509],\n",
       "         [510]],\n",
       "\n",
       "        [[511],\n",
       "         [512]]]])"
      ]
     },
     "execution_count": 20,
     "metadata": {},
     "output_type": "execute_result"
    }
   ],
   "source": [
    "C = np.array([range(1,513)])\n",
    "C = C.reshape(8,32,2,1)\n",
    "C"
   ]
  },
  {
   "cell_type": "code",
   "execution_count": 21,
   "id": "40a26700",
   "metadata": {},
   "outputs": [
    {
     "name": "stdout",
     "output_type": "stream",
     "text": [
      "(8, 32, 2, 1)\n",
      "512\n",
      "4\n"
     ]
    }
   ],
   "source": [
    "print(C.shape, C.size, len(C.shape), sep=\"\\n\")\n"
   ]
  },
  {
   "cell_type": "code",
   "execution_count": 22,
   "id": "37cb6296",
   "metadata": {},
   "outputs": [
    {
     "name": "stdout",
     "output_type": "stream",
     "text": [
      "[[ 1  2]\n",
      " [ 3  4]\n",
      " [ 5  6]\n",
      " [ 7  8]\n",
      " [ 9 10]\n",
      " [11 12]]\n",
      "[[ 1  2  3  4  5  6]\n",
      " [ 7  8  9 10 11 12]]\n"
     ]
    }
   ],
   "source": [
    "A = np.array(range(1,13)).reshape(6,2)\n",
    "B = A.reshape(2,6)\n",
    "print(A,B, sep=\"\\n\")"
   ]
  },
  {
   "cell_type": "markdown",
   "id": "dd0eef0e",
   "metadata": {},
   "source": [
    "### Norms"
   ]
  },
  {
   "cell_type": "code",
   "execution_count": 23,
   "id": "cc2c02df",
   "metadata": {},
   "outputs": [
    {
     "name": "stdout",
     "output_type": "stream",
     "text": [
      "25.495097567963924\n",
      "25.495097567963924\n"
     ]
    }
   ],
   "source": [
    "# Euclidean L2 Norm\n",
    "print(np.linalg.norm(A))\n",
    "print(np.linalg.norm(B))"
   ]
  },
  {
   "cell_type": "code",
   "execution_count": 24,
   "id": "b150ea2e",
   "metadata": {},
   "outputs": [
    {
     "name": "stdout",
     "output_type": "stream",
     "text": [
      "25.495097567963924\n",
      "25.495097567963924\n"
     ]
    }
   ],
   "source": [
    "# Frobenius Norm of a matrix - L2 Norm of a matrix\n",
    "print(np.linalg.norm(A, \"fro\"))\n",
    "print(np.linalg.norm(B, \"fro\"))"
   ]
  },
  {
   "cell_type": "code",
   "execution_count": 25,
   "id": "bc83ff95",
   "metadata": {},
   "outputs": [
    {
     "name": "stdout",
     "output_type": "stream",
     "text": [
      "23.0\n",
      "57.0\n"
     ]
    }
   ],
   "source": [
    "# Max Norm (P = infinity)\n",
    "print(np.linalg.norm(A, np.inf)) #highest sum of a row\n",
    "print(np.linalg.norm(B,  np.inf))"
   ]
  },
  {
   "cell_type": "code",
   "execution_count": 26,
   "id": "f53dbd9a",
   "metadata": {},
   "outputs": [
    {
     "name": "stdout",
     "output_type": "stream",
     "text": [
      "42.0\n",
      "18.0\n",
      "42.0\n",
      "18.0\n"
     ]
    }
   ],
   "source": [
    "# L1 norm\n",
    "print(np.linalg.norm(A, 1)) \n",
    "print(np.linalg.norm(B, 1))\n",
    "#another notation\n",
    "print(np.linalg.norm(A, ord=1)) \n",
    "print(np.linalg.norm(B, ord=1))"
   ]
  },
  {
   "cell_type": "code",
   "execution_count": 27,
   "id": "9aa44cf0",
   "metadata": {},
   "outputs": [
    {
     "data": {
      "text/plain": [
       "array([[0.03924276, 0.07848551],\n",
       "       [0.11772827, 0.15697103],\n",
       "       [0.19621378, 0.23545654],\n",
       "       [0.2746993 , 0.31394205],\n",
       "       [0.35318481, 0.39242757],\n",
       "       [0.43167032, 0.47091308]])"
      ]
     },
     "execution_count": 27,
     "metadata": {},
     "output_type": "execute_result"
    }
   ],
   "source": [
    "# Normalization to unit vector\n",
    "a = np.linalg.norm(A, 2) #L2 Norm of A (\"2\" can be dropeed)\n",
    "A_unit = A / a\n",
    "A_unit\n"
   ]
  },
  {
   "cell_type": "code",
   "execution_count": 28,
   "id": "6551bfc3",
   "metadata": {},
   "outputs": [
    {
     "name": "stdout",
     "output_type": "stream",
     "text": [
      "1.0004979081272993\n"
     ]
    }
   ],
   "source": [
    "# Double check - the norm of a unit vector should be one:\n",
    "print(np.linalg.norm(A_unit))"
   ]
  },
  {
   "cell_type": "code",
   "execution_count": 96,
   "id": "92e41a32",
   "metadata": {},
   "outputs": [
    {
     "data": {
      "text/plain": [
       "array([[-1,  0,  0],\n",
       "       [ 0,  1,  0],\n",
       "       [ 0,  0,  3]])"
      ]
     },
     "execution_count": 96,
     "metadata": {},
     "output_type": "execute_result"
    }
   ],
   "source": [
    "# Finding the eigenvalues and eigenvectors of a given square matrix\n",
    "M1 = np.diag(range(-1,4,2))\n",
    "M1"
   ]
  },
  {
   "cell_type": "code",
   "execution_count": 97,
   "id": "c78de3b6",
   "metadata": {},
   "outputs": [
    {
     "name": "stdout",
     "output_type": "stream",
     "text": [
      "[[1. 0. 0.]\n",
      " [0. 1. 0.]\n",
      " [0. 0. 1.]]\n",
      "[-1.  1.  3.]\n"
     ]
    }
   ],
   "source": [
    "eigenvalues, eigenvectors = np.linalg.eig(M1) # The order is important\n",
    "print(eigenvectors, eigenvalues, sep=\"\\n\")"
   ]
  },
  {
   "cell_type": "code",
   "execution_count": 98,
   "id": "9648c0d9",
   "metadata": {},
   "outputs": [
    {
     "name": "stdout",
     "output_type": "stream",
     "text": [
      "Eigenvalue 1.0\n",
      "Eigenvector [0. 1. 0.]\n",
      "Eigenvector [0. 1. 0.]\n"
     ]
    }
   ],
   "source": [
    "print('Eigenvalue {}'.format(eigenvalues[1]))\n",
    "print('Eigenvector {}'.format(eigenvectors[1,:]))\n",
    "print('Eigenvector {}'.format(eigenvectors[:,1])) #Because it is diagonal, it does not matter to put it in row or column."
   ]
  },
  {
   "cell_type": "markdown",
   "id": "86eb97a9",
   "metadata": {},
   "source": [
    "## Check to see if eigenvalue and eigenvector is correct!"
   ]
  },
  {
   "cell_type": "markdown",
   "id": "44a672a4",
   "metadata": {},
   "source": [
    "### Method 1"
   ]
  },
  {
   "cell_type": "code",
   "execution_count": 99,
   "id": "bf082557",
   "metadata": {},
   "outputs": [
    {
     "name": "stdout",
     "output_type": "stream",
     "text": [
      "[0. 1. 0.]\n",
      "[0. 1. 0.]\n",
      "[ True  True  True]\n"
     ]
    }
   ],
   "source": [
    "M2 = eigenvectors[1,:]\n",
    "M3 = eigenvalues[1]\n",
    "M4 = np.matmul(M1,M2)\n",
    "M5 = np.dot(M3,M2)\n",
    "print(M4, M5, M4==M5, sep=\"\\n\")"
   ]
  },
  {
   "cell_type": "markdown",
   "id": "32129f68",
   "metadata": {},
   "source": [
    "### Method 2"
   ]
  },
  {
   "cell_type": "code",
   "execution_count": 100,
   "id": "bb5a7dd0",
   "metadata": {},
   "outputs": [
    {
     "name": "stdout",
     "output_type": "stream",
     "text": [
      "[[-1  0  0]\n",
      " [ 0  1  0]\n",
      " [ 0  0  3]]\n"
     ]
    }
   ],
   "source": [
    "eigenvectors_inv = np.linalg.inv(eigenvectors) # Inverse of eigenvectors\n",
    "M6 = np.matmul(eigenvectors, np.diag(eigenvalues))\n",
    "M7 = np.matmul(M6, eigenvectors_inv).astype(np.int) # .astype(np.int) can be omitted!\n",
    "print(M7)"
   ]
  },
  {
   "cell_type": "markdown",
   "id": "8c824f1a",
   "metadata": {},
   "source": [
    "## Plotting the previous eigenvectors and eigenvalues"
   ]
  },
  {
   "cell_type": "code",
   "execution_count": 101,
   "id": "ee2cf2c6",
   "metadata": {},
   "outputs": [
    {
     "data": {
      "text/plain": [
       "Text(0.5, 0.92, 'After Multiplication')"
      ]
     },
     "execution_count": 101,
     "metadata": {},
     "output_type": "execute_result"
    },
    {
     "data": {
      "image/png": "[encoded data removed]",
      "text/plain": [
       "<Figure size 1296x720 with 2 Axes>"
      ]
     },
     "metadata": {
      "needs_background": "light"
     },
     "output_type": "display_data"
    }
   ],
   "source": [
    "origin = [0,0,0]\n",
    "\n",
    "fig = plt.figure(figsize=(18,10))\n",
    "fig.suptitle('Effects of Eigenvalues and Eigenvectors')\n",
    "ax1 = fig.add_subplot(121, projection = \"3d\")\n",
    "\n",
    "# Before Multiplication\n",
    "ax1.quiver(origin, origin, origin, eigenvectors[:,0], eigenvectors[:,1], eigenvectors[:,2], color='b')\n",
    "ax1.set_xlim([-3,3])\n",
    "ax1.set_ylim([-3,3])\n",
    "ax1.set_zlim([-3,3])\n",
    "ax1.set_xlabel('x axis')\n",
    "ax1.set_ylabel('y axis')\n",
    "ax1.set_zlabel('z axis')\n",
    "ax1.view_init(15,30)\n",
    "ax1.set_title('Before Multiplication')\n",
    "\n",
    "# After Multiplication\n",
    "new_eig = np.matmul(M1, eigenvectors)\n",
    "ax2 = plt.subplot(122, projection=\"3d\")\n",
    "ax2.quiver(origin, origin, origin, new_eig[0,:], new_eig[1,:], new_eig[2,:], color='b')\n",
    "\n",
    "ax2.plot((eigenvalues[0]*eigenvectors[0]),(eigenvalues[1]*eigenvectors[1]), (eigenvalues[2]*eigenvectors[2]), 'rx')\n",
    "\n",
    "ax2.set_xlim([-3,3])\n",
    "ax2.set_ylim([-3,3])\n",
    "ax2.set_zlim([-3,3])\n",
    "ax2.set_xlabel('x axis')\n",
    "ax2.set_ylabel('y axis')\n",
    "ax2.set_zlabel('z axis')\n",
    "ax2.view_init(15,30)\n",
    "ax2.set_title('After Multiplication')"
   ]
  }
 ],
 "metadata": {
  "kernelspec": {
   "display_name": "Python 3 (ipykernel)",
   "language": "python",
   "name": "python3"
  },
  "language_info": {
   "codemirror_mode": {
    "name": "ipython",
    "version": 3
   },
   "file_extension": ".py",
   "mimetype": "text/x-python",
   "name": "python",
   "nbconvert_exporter": "python",
   "pygments_lexer": "ipython3",
   "version": "3.8.11"
  }
 },
 "nbformat": 4,
 "nbformat_minor": 5
}
