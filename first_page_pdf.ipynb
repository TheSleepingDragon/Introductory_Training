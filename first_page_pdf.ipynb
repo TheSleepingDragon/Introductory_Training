{
 "cells": [
  {
   "cell_type": "code",
   "execution_count": 2,
   "id": "3a992f60",
   "metadata": {},
   "outputs": [
    {
     "name": "stdout",
     "output_type": "stream",
     "text": [
      "Output file saved: 25_25_first_page.pdf\n"
     ]
    }
   ],
   "source": [
    "import PyPDF2\n",
    "import os\n",
    "import glob\n",
    "\n",
    "def extract_first_page(input_pdf, output_pdf):\n",
    "    with open(input_pdf, 'rb') as file:\n",
    "        reader = PyPDF2.PdfReader(file)\n",
    "\n",
    "        if len(reader.pages) < 1:\n",
    "            print(f\"The PDF file {input_pdf} has no pages.\")\n",
    "            return\n",
    "\n",
    "        first_page = reader.pages[0]\n",
    "\n",
    "        writer = PyPDF2.PdfWriter()\n",
    "        writer.add_page(first_page)\n",
    "\n",
    "        with open(output_pdf, 'wb') as output_file:\n",
    "            writer.write(output_file)\n",
    "            print(f\"Output file saved: {output_pdf}\")\n",
    "\n",
    "# Find all PDF files in the current directory\n",
    "pdf_files = glob.glob('*.pdf')\n",
    "\n",
    "for pdf_file in pdf_files:\n",
    "    input_pdf = pdf_file\n",
    "    output_pdf = os.path.splitext(pdf_file)[0] + '_first_page.pdf'\n",
    "    extract_first_page(input_pdf, output_pdf)"
   ]
  },
  {
   "cell_type": "code",
   "execution_count": null,
   "id": "8b1ca2b1",
   "metadata": {},
   "outputs": [],
   "source": []
  }
 ],
 "metadata": {
  "kernelspec": {
   "display_name": "Python 3 (ipykernel)",
   "language": "python",
   "name": "python3"
  },
  "language_info": {
   "codemirror_mode": {
    "name": "ipython",
    "version": 3
   },
   "file_extension": ".py",
   "mimetype": "text/x-python",
   "name": "python",
   "nbconvert_exporter": "python",
   "pygments_lexer": "ipython3",
   "version": "3.9.13"
  }
 },
 "nbformat": 4,
 "nbformat_minor": 5
}
